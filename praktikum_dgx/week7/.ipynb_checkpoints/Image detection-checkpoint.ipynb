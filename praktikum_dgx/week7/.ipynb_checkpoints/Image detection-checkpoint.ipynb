{
 "cells": [
  {
   "cell_type": "markdown",
   "metadata": {},
   "source": [
    "# Object Detection with ImageAI\n",
    "---\n",
    "## Pengenalan\n",
    "Deteksi objek adalah teknologi yang berada di bawah domain Computer Vision yang lebih luas. Metode ini berkaitan dengan mengidentifikasi dan melacak objek yang ada dalam gambar dan video. Deteksi objek memiliki banyak aplikasi seperti deteksi wajah, deteksi kendaraan, penghitungan pejalan kaki, mobil tanpa pengemudi, sistem keamanan, dll.\n",
    "\n",
    "Dua tujuan utama deteksi objek meliputi:\n",
    "- Untuk mengidentifikasi semua objek yang ada dalam gambar\n",
    "- Penyaringan objek\n",
    "\n",
    "Pada materi kali ini, Anda akan melihat cara melakukan deteksi objek dengan Python dengan bantuan ImageAI.\n",
    "\n",
    "---\n",
    "## ImageAI\n",
    "ImageAI adalah library Python yang dibangun untuk membantu pengembang untuk membangun aplikasi dan sistem dengan self-contained deep learning dan kemampuan Computer Vision menggunakan beberapa baris kode secara langsung. ImageAI berisi implementasi Python dari hampir semua algoritme deep learning yang canggih seperti RetinaNet, YOLOv3, dan TinyYOLOv3.\n",
    "\n",
    "ImageAI menggunakan beberapa API yang bekerja secara offline - memiliki API deteksi objek, deteksi video, dan pelacakan objek yang dapat dipanggil tanpa akses internet. ImageAI menggunakan model yang telah dilatih sebelumnya dan dapat dengan mudah disesuaikan.\n",
    "\n",
    "Kelas `ObjectDetection` dari pustaka ImageAI berisi fungsi untuk melakukan deteksi objek pada gambar atau kumpulan gambar apa pun, menggunakan model terlatih. Dengan ImageAI, Anda dapat mendeteksi dan mengenali 80 jenis objek umum sehari-hari."
   ]
  },
  {
   "cell_type": "markdown",
   "metadata": {},
   "source": [
    "---\n",
    "### 1. Menyiapkan environment\n",
    "\n",
    "**TensorFlow**"
   ]
  },
  {
   "cell_type": "code",
   "execution_count": 6,
   "metadata": {},
   "outputs": [
    {
     "name": "stdout",
     "output_type": "stream",
     "text": [
      "Requirement already satisfied: tensorflow==2.4.0 in /usr/local/lib/python3.8/dist-packages (2.4.0)\n",
      "Requirement already satisfied: numpy~=1.19.2 in /usr/local/lib/python3.8/dist-packages (from tensorflow==2.4.0) (1.19.3)\n",
      "Requirement already satisfied: opt-einsum~=3.3.0 in /usr/local/lib/python3.8/dist-packages (from tensorflow==2.4.0) (3.3.0)\n",
      "Requirement already satisfied: six~=1.15.0 in /usr/local/lib/python3.8/dist-packages (from tensorflow==2.4.0) (1.15.0)\n",
      "Requirement already satisfied: google-pasta~=0.2 in /usr/local/lib/python3.8/dist-packages (from tensorflow==2.4.0) (0.2.0)\n",
      "Requirement already satisfied: astunparse~=1.6.3 in /usr/local/lib/python3.8/dist-packages (from tensorflow==2.4.0) (1.6.3)\n",
      "Requirement already satisfied: flatbuffers~=1.12.0 in /usr/local/lib/python3.8/dist-packages (from tensorflow==2.4.0) (1.12)\n",
      "Requirement already satisfied: termcolor~=1.1.0 in /usr/local/lib/python3.8/dist-packages (from tensorflow==2.4.0) (1.1.0)\n",
      "Requirement already satisfied: wrapt~=1.12.1 in /usr/local/lib/python3.8/dist-packages (from tensorflow==2.4.0) (1.12.1)\n",
      "Requirement already satisfied: gast==0.3.3 in /usr/local/lib/python3.8/dist-packages (from tensorflow==2.4.0) (0.3.3)\n",
      "Requirement already satisfied: absl-py~=0.10 in /usr/local/lib/python3.8/dist-packages (from tensorflow==2.4.0) (0.12.0)\n",
      "Requirement already satisfied: grpcio~=1.32.0 in /usr/local/lib/python3.8/dist-packages (from tensorflow==2.4.0) (1.32.0)\n",
      "Requirement already satisfied: tensorflow-estimator<2.5.0,>=2.4.0rc0 in /usr/local/lib/python3.8/dist-packages (from tensorflow==2.4.0) (2.4.0)\n",
      "Requirement already satisfied: keras-preprocessing~=1.1.2 in /usr/local/lib/python3.8/dist-packages (from tensorflow==2.4.0) (1.1.2)\n",
      "Requirement already satisfied: protobuf>=3.9.2 in /usr/local/lib/python3.8/dist-packages (from tensorflow==2.4.0) (3.15.8)\n",
      "Requirement already satisfied: tensorboard~=2.4 in /usr/local/lib/python3.8/dist-packages (from tensorflow==2.4.0) (2.5.0)\n",
      "Requirement already satisfied: typing-extensions~=3.7.4 in /usr/local/lib/python3.8/dist-packages (from tensorflow==2.4.0) (3.7.4.3)\n",
      "Requirement already satisfied: wheel~=0.35 in /usr/local/lib/python3.8/dist-packages (from tensorflow==2.4.0) (0.36.2)\n",
      "Requirement already satisfied: h5py~=2.10.0 in /usr/local/lib/python3.8/dist-packages (from tensorflow==2.4.0) (2.10.0)\n",
      "Requirement already satisfied: setuptools>=41.0.0 in /usr/lib/python3/dist-packages (from tensorboard~=2.4->tensorflow==2.4.0) (45.2.0)\n",
      "Requirement already satisfied: requests<3,>=2.21.0 in /usr/lib/python3/dist-packages (from tensorboard~=2.4->tensorflow==2.4.0) (2.22.0)\n",
      "Requirement already satisfied: google-auth-oauthlib<0.5,>=0.4.1 in /usr/local/lib/python3.8/dist-packages (from tensorboard~=2.4->tensorflow==2.4.0) (0.4.4)\n",
      "Requirement already satisfied: google-auth<2,>=1.6.3 in /usr/local/lib/python3.8/dist-packages (from tensorboard~=2.4->tensorflow==2.4.0) (1.29.0)\n",
      "Requirement already satisfied: tensorboard-data-server<0.7.0,>=0.6.0 in /usr/local/lib/python3.8/dist-packages (from tensorboard~=2.4->tensorflow==2.4.0) (0.6.0)\n",
      "Requirement already satisfied: markdown>=2.6.8 in /usr/local/lib/python3.8/dist-packages (from tensorboard~=2.4->tensorflow==2.4.0) (3.3.4)\n",
      "Requirement already satisfied: tensorboard-plugin-wit>=1.6.0 in /usr/local/lib/python3.8/dist-packages (from tensorboard~=2.4->tensorflow==2.4.0) (1.8.0)\n",
      "Requirement already satisfied: werkzeug>=0.11.15 in /usr/local/lib/python3.8/dist-packages (from tensorboard~=2.4->tensorflow==2.4.0) (1.0.1)\n",
      "Requirement already satisfied: pyasn1-modules>=0.2.1 in /usr/local/lib/python3.8/dist-packages (from google-auth<2,>=1.6.3->tensorboard~=2.4->tensorflow==2.4.0) (0.2.8)\n",
      "Requirement already satisfied: cachetools<5.0,>=2.0.0 in /usr/local/lib/python3.8/dist-packages (from google-auth<2,>=1.6.3->tensorboard~=2.4->tensorflow==2.4.0) (4.2.1)\n",
      "Requirement already satisfied: rsa<5,>=3.1.4 in /usr/local/lib/python3.8/dist-packages (from google-auth<2,>=1.6.3->tensorboard~=2.4->tensorflow==2.4.0) (4.7.2)\n",
      "Requirement already satisfied: requests-oauthlib>=0.7.0 in /usr/local/lib/python3.8/dist-packages (from google-auth-oauthlib<0.5,>=0.4.1->tensorboard~=2.4->tensorflow==2.4.0) (1.3.0)\n",
      "Requirement already satisfied: pyasn1<0.5.0,>=0.4.6 in /usr/local/lib/python3.8/dist-packages (from pyasn1-modules>=0.2.1->google-auth<2,>=1.6.3->tensorboard~=2.4->tensorflow==2.4.0) (0.4.8)\n",
      "Requirement already satisfied: oauthlib>=3.0.0 in /usr/lib/python3/dist-packages (from requests-oauthlib>=0.7.0->google-auth-oauthlib<0.5,>=0.4.1->tensorboard~=2.4->tensorflow==2.4.0) (3.1.0)\n",
      "Note: you may need to restart the kernel to use updated packages.\n"
     ]
    }
   ],
   "source": [
    "pip install tensorflow==2.4.0"
   ]
  },
  {
   "cell_type": "markdown",
   "metadata": {},
   "source": [
    "**OpenCV**"
   ]
  },
  {
   "cell_type": "code",
   "execution_count": 7,
   "metadata": {},
   "outputs": [
    {
     "name": "stdout",
     "output_type": "stream",
     "text": [
      "Requirement already satisfied: opencv-python in /usr/local/lib/python3.8/dist-packages (4.5.1.48)\n",
      "Requirement already satisfied: numpy>=1.17.3 in /usr/local/lib/python3.8/dist-packages (from opencv-python) (1.19.3)\n",
      "Note: you may need to restart the kernel to use updated packages.\n"
     ]
    }
   ],
   "source": [
    "pip install opencv-python"
   ]
  },
  {
   "cell_type": "markdown",
   "metadata": {},
   "source": [
    "**Keras**"
   ]
  },
  {
   "cell_type": "code",
   "execution_count": 8,
   "metadata": {},
   "outputs": [
    {
     "name": "stdout",
     "output_type": "stream",
     "text": [
      "Requirement already satisfied: keras in /usr/local/lib/python3.8/dist-packages (2.4.3)\n",
      "Requirement already satisfied: h5py in /usr/local/lib/python3.8/dist-packages (from keras) (2.10.0)\n",
      "Requirement already satisfied: pyyaml in /usr/lib/python3/dist-packages (from keras) (5.3.1)\n",
      "Requirement already satisfied: numpy>=1.9.1 in /usr/local/lib/python3.8/dist-packages (from keras) (1.19.3)\n",
      "Requirement already satisfied: scipy>=0.14 in /usr/local/lib/python3.8/dist-packages (from keras) (1.4.1)\n",
      "Requirement already satisfied: six in /usr/local/lib/python3.8/dist-packages (from h5py->keras) (1.15.0)\n",
      "Note: you may need to restart the kernel to use updated packages.\n"
     ]
    }
   ],
   "source": [
    "pip install keras"
   ]
  },
  {
   "cell_type": "markdown",
   "metadata": {},
   "source": [
    "**ImageAI**"
   ]
  },
  {
   "cell_type": "code",
   "execution_count": 9,
   "metadata": {},
   "outputs": [
    {
     "name": "stdout",
     "output_type": "stream",
     "text": [
      "Requirement already satisfied: imageAI in /usr/local/lib/python3.8/dist-packages (2.1.6)\n",
      "Requirement already satisfied: keras==2.4.3 in /usr/local/lib/python3.8/dist-packages (from imageAI) (2.4.3)\n",
      "Requirement already satisfied: opencv-python in /usr/local/lib/python3.8/dist-packages (from imageAI) (4.5.1.48)\n",
      "Requirement already satisfied: pillow==7.0.0 in /usr/local/lib/python3.8/dist-packages (from imageAI) (7.0.0)\n",
      "Requirement already satisfied: matplotlib==3.3.2 in /usr/local/lib/python3.8/dist-packages (from imageAI) (3.3.2)\n",
      "Requirement already satisfied: scipy==1.4.1 in /usr/local/lib/python3.8/dist-packages (from imageAI) (1.4.1)\n",
      "Requirement already satisfied: h5py==2.10.0 in /usr/local/lib/python3.8/dist-packages (from imageAI) (2.10.0)\n",
      "Requirement already satisfied: keras-resnet==0.2.0 in /usr/local/lib/python3.8/dist-packages (from imageAI) (0.2.0)\n",
      "Requirement already satisfied: numpy==1.19.3 in /usr/local/lib/python3.8/dist-packages (from imageAI) (1.19.3)\n",
      "Requirement already satisfied: six in /usr/local/lib/python3.8/dist-packages (from h5py==2.10.0->imageAI) (1.15.0)\n",
      "Requirement already satisfied: pyyaml in /usr/lib/python3/dist-packages (from keras==2.4.3->imageAI) (5.3.1)\n",
      "Requirement already satisfied: certifi>=2020.06.20 in /usr/local/lib/python3.8/dist-packages (from matplotlib==3.3.2->imageAI) (2020.12.5)\n",
      "Requirement already satisfied: pyparsing!=2.0.4,!=2.1.2,!=2.1.6,>=2.0.3 in /usr/local/lib/python3.8/dist-packages (from matplotlib==3.3.2->imageAI) (2.4.7)\n",
      "Requirement already satisfied: python-dateutil>=2.1 in /usr/lib/python3/dist-packages (from matplotlib==3.3.2->imageAI) (2.7.3)\n",
      "Requirement already satisfied: kiwisolver>=1.0.1 in /usr/lib/python3/dist-packages (from matplotlib==3.3.2->imageAI) (1.0.1)\n",
      "Requirement already satisfied: cycler>=0.10 in /usr/lib/python3/dist-packages (from matplotlib==3.3.2->imageAI) (0.10.0)\n",
      "Note: you may need to restart the kernel to use updated packages.\n"
     ]
    }
   ],
   "source": [
    "pip install imageAI"
   ]
  },
  {
   "cell_type": "markdown",
   "metadata": {},
   "source": [
    "**Trained Model**\n",
    "\n",
    "Sekarang unduh file model [TinyYOLOv3](https://gitlab.com/andreass.bayu/imageai-repo/-/releases/1.0) yang berisi model klasifikasi yang akan digunakan untuk deteksi objek."
   ]
  },
  {
   "cell_type": "markdown",
   "metadata": {},
   "source": [
    "---\n",
    "\n",
    "### 2. Import Package\n",
    "\n",
    "Impor kelas ObjectDetection dari library ImageAI."
   ]
  },
  {
   "cell_type": "code",
   "execution_count": null,
   "metadata": {},
   "outputs": [
    {
     "name": "stderr",
     "output_type": "stream",
     "text": [
      "/usr/lib/python3/dist-packages/requests/__init__.py:89: RequestsDependencyWarning: urllib3 (1.26.4) or chardet (3.0.4) doesn't match a supported version!\n",
      "  warnings.warn(\"urllib3 ({}) or chardet ({}) doesn't match a supported \"\n"
     ]
    }
   ],
   "source": [
    "from imageai.Detection import ObjectDetection"
   ]
  },
  {
   "cell_type": "markdown",
   "metadata": {},
   "source": [
    "### 3. Buat instance dari class ObjectDetection\n",
    "Sekarang Anda telah mengimpor pustaka imageAI dan kelas `ObjectDetection`, hal berikutnya adalah membuat instance kelas `ObjectDetection`, seperti yang ditunjukkan di sini:"
   ]
  },
  {
   "cell_type": "code",
   "execution_count": null,
   "metadata": {},
   "outputs": [],
   "source": [
    "detector = ObjectDetection()"
   ]
  },
  {
   "cell_type": "markdown",
   "metadata": {},
   "source": [
    "### 4. Membuat spesifikasi lokasi gambar dan model\n",
    "\n",
    "Mari tentukan path atau lokasi dari gambar masukan, gambar keluaran, dan model kita."
   ]
  },
  {
   "cell_type": "code",
   "execution_count": null,
   "metadata": {},
   "outputs": [],
   "source": [
    "model_path = \"yolo-tiny.h5\"\n",
    "input_path = \"2.PNG\"\n",
    "output_path = \"newimage.jpg\""
   ]
  },
  {
   "cell_type": "markdown",
   "metadata": {},
   "source": [
    "### 5. Pilih fungsi deteksi objek\n",
    "\n",
    "Setelah membuat instance kelas ObjectDetection, sekarang kita dapat memanggil berbagai fungsi dari kelas `ObjectDetection` yang berisi fungsi berikut untuk memanggil model terlatih: `setModelTypeAsRetinaNet()`, `setModelTypeAsYOLOv3()`, dan `setModelTypeAsTinyYOLOv3()`."
   ]
  },
  {
   "cell_type": "code",
   "execution_count": null,
   "metadata": {},
   "outputs": [],
   "source": [
    "detector.setModelTypeAsTinyYOLOv3()"
   ]
  },
  {
   "cell_type": "markdown",
   "metadata": {},
   "source": [
    "### 6. setModelPath()\n",
    "\n",
    "Selanjutnya, kita akan memanggil fungsi `setModelPath ()`. Fungsi ini menerima string yang berisi path atau lokasi ke model terlatih:"
   ]
  },
  {
   "cell_type": "code",
   "execution_count": null,
   "metadata": {},
   "outputs": [],
   "source": [
    "detector.setModelPath(model_path)"
   ]
  },
  {
   "cell_type": "markdown",
   "metadata": {},
   "source": [
    "### 7. Load Model\n",
    "\n",
    "Langkah ini memanggil fungsi `loadModel()` dari instance detektor yang memuat model dari lokasi yang ditentukan di atas menggunakan metode kelas `setModelPath()`."
   ]
  },
  {
   "cell_type": "code",
   "execution_count": null,
   "metadata": {},
   "outputs": [],
   "source": [
    "detector.loadModel()"
   ]
  },
  {
   "cell_type": "markdown",
   "metadata": {},
   "source": [
    "### 8. Deteksi Image\n",
    "\n",
    "Untuk mendeteksi objek dalam gambar, kita perlu memanggil fungsi `detectObjectsFromImage` menggunakan objek detektor yang kita buat di bagian sebelumnya.\n",
    "\n",
    "Fungsi ini membutuhkan dua argumen: `input_image` dan `output_image_path`. `input_image` adalah lokasi tempat gambar yang kita deteksi berada, sedangkan parameter `output_image_path` adalah lokasi untuk menyimpan gambar dengan objek yang terdeteksi. Fungsi ini mengembalikan dictionary (array) yang berisi nama dan persentase probabilitas dari semua objek yang terdeteksi dalam gambar."
   ]
  },
  {
   "cell_type": "code",
   "execution_count": null,
   "metadata": {},
   "outputs": [],
   "source": [
    "detection = detector.detectObjectsFromImage(input_image=input_path, output_image_path=output_path)"
   ]
  },
  {
   "cell_type": "markdown",
   "metadata": {},
   "source": [
    "### 9. Cek Output\n",
    "\n",
    "Dictionary (array) dapat diakses dengan menelusuri setiap item dalam data tersebut."
   ]
  },
  {
   "cell_type": "code",
   "execution_count": null,
   "metadata": {},
   "outputs": [],
   "source": [
    "for eachItem in detection:\n",
    "    print(eachItem[\"name\"] , \" : \", eachItem[\"percentage_probability\"])"
   ]
  },
  {
   "cell_type": "markdown",
   "metadata": {},
   "source": [
    "### 10. Liat Hasilnya"
   ]
  },
  {
   "cell_type": "code",
   "execution_count": null,
   "metadata": {},
   "outputs": [],
   "source": [
    "from IPython.display import Image\n",
    "Image(filename='newimage.jpg') "
   ]
  }
 ],
 "metadata": {
  "kernelspec": {
   "display_name": "Python 3",
   "language": "python",
   "name": "python3"
  },
  "language_info": {
   "codemirror_mode": {
    "name": "ipython",
    "version": 3
   },
   "file_extension": ".py",
   "mimetype": "text/x-python",
   "name": "python",
   "nbconvert_exporter": "python",
   "pygments_lexer": "ipython3",
   "version": "3.8.5"
  }
 },
 "nbformat": 4,
 "nbformat_minor": 4
}
